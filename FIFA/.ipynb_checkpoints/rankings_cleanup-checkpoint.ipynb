{
 "cells": [
  {
   "cell_type": "code",
   "execution_count": 46,
   "metadata": {},
   "outputs": [],
   "source": [
    "# Dependencies and Setup\n",
    "import pandas as pd\n",
    "import numpy as np\n",
    "import datetime as dt"
   ]
  },
  {
   "cell_type": "code",
   "execution_count": 3,
   "metadata": {
    "scrolled": true
   },
   "outputs": [
    {
     "data": {
      "text/html": [
       "<div>\n",
       "<style scoped>\n",
       "    .dataframe tbody tr th:only-of-type {\n",
       "        vertical-align: middle;\n",
       "    }\n",
       "\n",
       "    .dataframe tbody tr th {\n",
       "        vertical-align: top;\n",
       "    }\n",
       "\n",
       "    .dataframe thead th {\n",
       "        text-align: right;\n",
       "    }\n",
       "</style>\n",
       "<table border=\"1\" class=\"dataframe\">\n",
       "  <thead>\n",
       "    <tr style=\"text-align: right;\">\n",
       "      <th></th>\n",
       "      <th>id</th>\n",
       "      <th>rank</th>\n",
       "      <th>country_full</th>\n",
       "      <th>country_abrv</th>\n",
       "      <th>total_points</th>\n",
       "      <th>previous_points</th>\n",
       "      <th>rank_change</th>\n",
       "      <th>confederation</th>\n",
       "      <th>rank_date</th>\n",
       "    </tr>\n",
       "  </thead>\n",
       "  <tbody>\n",
       "    <tr>\n",
       "      <th>0</th>\n",
       "      <td>43948</td>\n",
       "      <td>1</td>\n",
       "      <td>Germany</td>\n",
       "      <td>GER</td>\n",
       "      <td>57</td>\n",
       "      <td>0</td>\n",
       "      <td>0</td>\n",
       "      <td>UEFA</td>\n",
       "      <td>1992-12-31</td>\n",
       "    </tr>\n",
       "    <tr>\n",
       "      <th>1</th>\n",
       "      <td>43873</td>\n",
       "      <td>107</td>\n",
       "      <td>Mozambique</td>\n",
       "      <td>MOZ</td>\n",
       "      <td>9</td>\n",
       "      <td>0</td>\n",
       "      <td>0</td>\n",
       "      <td>CAF</td>\n",
       "      <td>1992-12-31</td>\n",
       "    </tr>\n",
       "    <tr>\n",
       "      <th>2</th>\n",
       "      <td>43816</td>\n",
       "      <td>108</td>\n",
       "      <td>Indonesia</td>\n",
       "      <td>IDN</td>\n",
       "      <td>9</td>\n",
       "      <td>0</td>\n",
       "      <td>0</td>\n",
       "      <td>AFC</td>\n",
       "      <td>1992-12-31</td>\n",
       "    </tr>\n",
       "    <tr>\n",
       "      <th>3</th>\n",
       "      <td>1882218</td>\n",
       "      <td>109</td>\n",
       "      <td>Antigua and Barbuda</td>\n",
       "      <td>ATG</td>\n",
       "      <td>8</td>\n",
       "      <td>0</td>\n",
       "      <td>0</td>\n",
       "      <td>CONCACAF</td>\n",
       "      <td>1992-12-31</td>\n",
       "    </tr>\n",
       "    <tr>\n",
       "      <th>4</th>\n",
       "      <td>43820</td>\n",
       "      <td>110</td>\n",
       "      <td>Jordan</td>\n",
       "      <td>JOR</td>\n",
       "      <td>8</td>\n",
       "      <td>0</td>\n",
       "      <td>0</td>\n",
       "      <td>AFC</td>\n",
       "      <td>1992-12-31</td>\n",
       "    </tr>\n",
       "  </tbody>\n",
       "</table>\n",
       "</div>"
      ],
      "text/plain": [
       "        id  rank         country_full country_abrv  total_points  \\\n",
       "0    43948     1              Germany          GER            57   \n",
       "1    43873   107           Mozambique          MOZ             9   \n",
       "2    43816   108            Indonesia          IDN             9   \n",
       "3  1882218   109  Antigua and Barbuda          ATG             8   \n",
       "4    43820   110               Jordan          JOR             8   \n",
       "\n",
       "   previous_points  rank_change confederation   rank_date  \n",
       "0                0            0          UEFA  1992-12-31  \n",
       "1                0            0           CAF  1992-12-31  \n",
       "2                0            0           AFC  1992-12-31  \n",
       "3                0            0      CONCACAF  1992-12-31  \n",
       "4                0            0           AFC  1992-12-31  "
      ]
     },
     "execution_count": 3,
     "metadata": {},
     "output_type": "execute_result"
    }
   ],
   "source": [
    "csv_path = \"data/fifa_ranking_2020_11_26.csv\"\n",
    "\n",
    "df_fifa_data = pd.read_csv(csv_path)\n",
    "\n",
    "df_fifa_data.head()"
   ]
  },
  {
   "cell_type": "code",
   "execution_count": 4,
   "metadata": {},
   "outputs": [
    {
     "data": {
      "text/plain": [
       "Index(['id', 'rank', 'country_full', 'country_abrv', 'total_points',\n",
       "       'previous_points', 'rank_change', 'confederation', 'rank_date'],\n",
       "      dtype='object')"
      ]
     },
     "execution_count": 4,
     "metadata": {},
     "output_type": "execute_result"
    }
   ],
   "source": [
    "df_fifa_data.columns"
   ]
  },
  {
   "cell_type": "code",
   "execution_count": 5,
   "metadata": {},
   "outputs": [
    {
     "data": {
      "text/plain": [
       "216"
      ]
     },
     "execution_count": 5,
     "metadata": {},
     "output_type": "execute_result"
    }
   ],
   "source": [
    "# Fifa unique countries on the list. \n",
    "\n",
    "country_count = len(df_fifa_data[\"country_full\"].unique())\n",
    "country_count"
   ]
  },
  {
   "cell_type": "code",
   "execution_count": 21,
   "metadata": {},
   "outputs": [
    {
     "data": {
      "text/plain": [
       "211"
      ]
     },
     "execution_count": 21,
     "metadata": {},
     "output_type": "execute_result"
    }
   ],
   "source": [
    "# Fifa rank goes from 1-211 in some instances. Verified in Excel\n",
    "\n",
    "rank_count = len(df_fifa_data[\"rank\"].unique())\n",
    "rank_count"
   ]
  },
  {
   "cell_type": "code",
   "execution_count": 12,
   "metadata": {},
   "outputs": [
    {
     "data": {
      "text/plain": [
       "6"
      ]
     },
     "execution_count": 12,
     "metadata": {},
     "output_type": "execute_result"
    }
   ],
   "source": [
    "# Number of confederations in Fifa World Rankings\n",
    "\n",
    "confederation_count = len(df_fifa_data[\"confederation\"].unique())\n",
    "confederation_count"
   ]
  },
  {
   "cell_type": "code",
   "execution_count": 24,
   "metadata": {},
   "outputs": [
    {
     "data": {
      "text/plain": [
       "country_full\n",
       "Afghanistan       1\n",
       "Albania           1\n",
       "Algeria           1\n",
       "American Samoa    1\n",
       "Andorra           1\n",
       "                 ..\n",
       "Yemen             1\n",
       "Yugoslavia        1\n",
       "Zaire             1\n",
       "Zambia            1\n",
       "Zimbabwe          1\n",
       "Name: country_abrv, Length: 216, dtype: int64"
      ]
     },
     "execution_count": 24,
     "metadata": {},
     "output_type": "execute_result"
    }
   ],
   "source": [
    "# Count & Name of every country that's been listed into the database.\n",
    "\n",
    "df_country_groupby = df_fifa_data.groupby(\"country_full\")\n",
    "df_country_nunique = df_country_groupby[\"country_abrv\"].nunique()\n",
    "df_country_nunique"
   ]
  },
  {
   "cell_type": "markdown",
   "metadata": {},
   "source": [
    "AFC - Asian Football Confederation\n",
    "CAF - Confederation of African Football\n",
    "CONCACAF - Confederation of North, Central America and Caribbean Association Football\n",
    "CONMEBOL - South American Football Confederation\n",
    "OFC - Oceania Football Confederation\n",
    "UEFA - Union of European Football Associations"
   ]
  },
  {
   "cell_type": "code",
   "execution_count": 35,
   "metadata": {},
   "outputs": [
    {
     "data": {
      "text/html": [
       "<div>\n",
       "<style scoped>\n",
       "    .dataframe tbody tr th:only-of-type {\n",
       "        vertical-align: middle;\n",
       "    }\n",
       "\n",
       "    .dataframe tbody tr th {\n",
       "        vertical-align: top;\n",
       "    }\n",
       "\n",
       "    .dataframe thead th {\n",
       "        text-align: right;\n",
       "    }\n",
       "</style>\n",
       "<table border=\"1\" class=\"dataframe\">\n",
       "  <thead>\n",
       "    <tr style=\"text-align: right;\">\n",
       "      <th></th>\n",
       "      <th>id</th>\n",
       "      <th>rank</th>\n",
       "      <th>country_full</th>\n",
       "      <th>country_abrv</th>\n",
       "      <th>total_points</th>\n",
       "      <th>previous_points</th>\n",
       "      <th>rank_change</th>\n",
       "      <th>confederation</th>\n",
       "      <th>rank_date</th>\n",
       "    </tr>\n",
       "    <tr>\n",
       "      <th>confederation</th>\n",
       "      <th></th>\n",
       "      <th></th>\n",
       "      <th></th>\n",
       "      <th></th>\n",
       "      <th></th>\n",
       "      <th></th>\n",
       "      <th></th>\n",
       "      <th></th>\n",
       "      <th></th>\n",
       "    </tr>\n",
       "  </thead>\n",
       "  <tbody>\n",
       "    <tr>\n",
       "      <th>AFC</th>\n",
       "      <td>46</td>\n",
       "      <td>200</td>\n",
       "      <td>46</td>\n",
       "      <td>46</td>\n",
       "      <td>1125</td>\n",
       "      <td>1122</td>\n",
       "      <td>49</td>\n",
       "      <td>1</td>\n",
       "      <td>308</td>\n",
       "    </tr>\n",
       "    <tr>\n",
       "      <th>CAF</th>\n",
       "      <td>55</td>\n",
       "      <td>202</td>\n",
       "      <td>55</td>\n",
       "      <td>55</td>\n",
       "      <td>1282</td>\n",
       "      <td>1268</td>\n",
       "      <td>61</td>\n",
       "      <td>1</td>\n",
       "      <td>308</td>\n",
       "    </tr>\n",
       "    <tr>\n",
       "      <th>CONCACAF</th>\n",
       "      <td>36</td>\n",
       "      <td>208</td>\n",
       "      <td>36</td>\n",
       "      <td>36</td>\n",
       "      <td>1127</td>\n",
       "      <td>1124</td>\n",
       "      <td>57</td>\n",
       "      <td>1</td>\n",
       "      <td>308</td>\n",
       "    </tr>\n",
       "    <tr>\n",
       "      <th>CONMEBOL</th>\n",
       "      <td>10</td>\n",
       "      <td>129</td>\n",
       "      <td>10</td>\n",
       "      <td>10</td>\n",
       "      <td>992</td>\n",
       "      <td>987</td>\n",
       "      <td>38</td>\n",
       "      <td>1</td>\n",
       "      <td>308</td>\n",
       "    </tr>\n",
       "    <tr>\n",
       "      <th>OFC</th>\n",
       "      <td>11</td>\n",
       "      <td>151</td>\n",
       "      <td>11</td>\n",
       "      <td>11</td>\n",
       "      <td>456</td>\n",
       "      <td>458</td>\n",
       "      <td>45</td>\n",
       "      <td>1</td>\n",
       "      <td>308</td>\n",
       "    </tr>\n",
       "    <tr>\n",
       "      <th>UEFA</th>\n",
       "      <td>58</td>\n",
       "      <td>211</td>\n",
       "      <td>58</td>\n",
       "      <td>58</td>\n",
       "      <td>1635</td>\n",
       "      <td>1633</td>\n",
       "      <td>52</td>\n",
       "      <td>1</td>\n",
       "      <td>308</td>\n",
       "    </tr>\n",
       "  </tbody>\n",
       "</table>\n",
       "</div>"
      ],
      "text/plain": [
       "               id  rank  country_full  country_abrv  total_points  \\\n",
       "confederation                                                       \n",
       "AFC            46   200            46            46          1125   \n",
       "CAF            55   202            55            55          1282   \n",
       "CONCACAF       36   208            36            36          1127   \n",
       "CONMEBOL       10   129            10            10           992   \n",
       "OFC            11   151            11            11           456   \n",
       "UEFA           58   211            58            58          1635   \n",
       "\n",
       "               previous_points  rank_change  confederation  rank_date  \n",
       "confederation                                                          \n",
       "AFC                       1122           49              1        308  \n",
       "CAF                       1268           61              1        308  \n",
       "CONCACAF                  1124           57              1        308  \n",
       "CONMEBOL                   987           38              1        308  \n",
       "OFC                        458           45              1        308  \n",
       "UEFA                      1633           52              1        308  "
      ]
     },
     "execution_count": 35,
     "metadata": {},
     "output_type": "execute_result"
    }
   ],
   "source": [
    "# Number of national teams in each confederation. \n",
    "\n",
    "df_confederation_groupby = df_fifa_data.groupby(\"confederation\")\n",
    "df_confederation_groupby.nunique()"
   ]
  },
  {
   "cell_type": "code",
   "execution_count": 45,
   "metadata": {},
   "outputs": [
    {
     "name": "stdout",
     "output_type": "stream",
     "text": [
      "AFC\n",
      "id                 63858.534597\n",
      "rank                 125.112752\n",
      "total_points         293.852945\n",
      "previous_points      292.971573\n",
      "rank_change            2.995299\n",
      "dtype: float64\n",
      "----------\n",
      "CAF\n",
      "id                 72336.853493\n",
      "rank                 106.993706\n",
      "total_points         359.992958\n",
      "previous_points      358.859538\n",
      "rank_change            3.195551\n",
      "dtype: float64\n",
      "----------\n",
      "CONCACAF\n",
      "id                 161734.291667\n",
      "rank                  127.629381\n",
      "total_points          296.879381\n",
      "previous_points       296.055977\n",
      "rank_change             3.134248\n",
      "dtype: float64\n",
      "----------\n",
      "CONMEBOL\n",
      "id                 43926.500000\n",
      "rank                  35.365260\n",
      "total_points         700.000000\n",
      "previous_points      696.835065\n",
      "rank_change            2.552273\n",
      "dtype: float64\n",
      "----------\n",
      "OFC\n",
      "id                 204630.225733\n",
      "rank                  163.989577\n",
      "total_points          183.242020\n",
      "previous_points       182.866775\n",
      "rank_change             2.447231\n",
      "dtype: float64\n",
      "----------\n",
      "UEFA\n",
      "id                 77434.245242\n",
      "rank                  61.303949\n",
      "total_points         566.521976\n",
      "previous_points      564.172649\n",
      "rank_change            2.740686\n",
      "dtype: float64\n",
      "----------\n"
     ]
    }
   ],
   "source": [
    "df_AFC_average_rank = df_fifa_data[df_fifa_data[\"confederation\"] == \"AFC\"].mean()\n",
    "print(\"AFC\")\n",
    "print(df_AFC_average_rank)\n",
    "print(\"----------\")\n",
    "\n",
    "df_CAF_average_rank = df_fifa_data[df_fifa_data[\"confederation\"] == \"CAF\"].mean()\n",
    "print(\"CAF\")\n",
    "print(df_CAF_average_rank)\n",
    "print(\"----------\")\n",
    "\n",
    "df_CONCACAF_average_rank = df_fifa_data[df_fifa_data[\"confederation\"] == \"CONCACAF\"].mean()\n",
    "print(\"CONCACAF\")\n",
    "print(df_CONCACAF_average_rank)\n",
    "print(\"----------\")\n",
    "\n",
    "df_CONMEBOL_average_rank = df_fifa_data[df_fifa_data[\"confederation\"] == \"CONMEBOL\"].mean()\n",
    "print(\"CONMEBOL\")\n",
    "print(df_OFC_average_rank)\n",
    "print(\"----------\")\n",
    "\n",
    "df_OFC_average_rank = df_fifa_data[df_fifa_data[\"confederation\"] == \"OFC\"].mean()\n",
    "print(\"OFC\")\n",
    "print(df_OFC_average_rank)\n",
    "print(\"----------\")\n",
    "\n",
    "df_UEFA_average_rank = df_fifa_data[df_fifa_data[\"confederation\"] == \"UEFA\"].mean()\n",
    "print(\"UEFA\")\n",
    "print(df_UEFA_average_rank)\n",
    "print(\"----------\")"
   ]
  },
  {
   "cell_type": "code",
   "execution_count": 26,
   "metadata": {},
   "outputs": [
    {
     "data": {
      "text/plain": [
       "id                 43948.000000\n",
       "rank                   5.691558\n",
       "total_points         978.207792\n",
       "previous_points      973.165584\n",
       "rank_change            0.805195\n",
       "dtype: float64"
      ]
     },
     "execution_count": 26,
     "metadata": {},
     "output_type": "execute_result"
    }
   ],
   "source": [
    "df_germany_average_rank = df_fifa_data[df_fifa_data[\"country_full\"] == \"Germany\"].mean()\n",
    "df_germany_average_rank"
   ]
  },
  {
   "cell_type": "code",
   "execution_count": 27,
   "metadata": {},
   "outputs": [
    {
     "data": {
      "text/plain": [
       "id                 43946.000000\n",
       "rank                   8.512987\n",
       "total_points         860.383117\n",
       "previous_points      855.814935\n",
       "rank_change            1.181818\n",
       "dtype: float64"
      ]
     },
     "execution_count": 27,
     "metadata": {},
     "output_type": "execute_result"
    }
   ],
   "source": [
    "df_france_average_rank = df_fifa_data[df_fifa_data[\"country_full\"] == \"France\"].mean()\n",
    "df_france_average_rank"
   ]
  },
  {
   "cell_type": "code",
   "execution_count": 29,
   "metadata": {},
   "outputs": [
    {
     "data": {
      "text/plain": [
       "id                 43921.000000\n",
       "rank                  20.629870\n",
       "total_points         709.389610\n",
       "previous_points      706.431818\n",
       "rank_change            1.967532\n",
       "dtype: float64"
      ]
     },
     "execution_count": 29,
     "metadata": {},
     "output_type": "execute_result"
    }
   ],
   "source": [
    "df_usa_average_rank = df_fifa_data[df_fifa_data[\"country_full\"] == \"USA\"].mean()\n",
    "df_usa_average_rank"
   ]
  },
  {
   "cell_type": "code",
   "execution_count": 30,
   "metadata": {},
   "outputs": [
    {
     "data": {
      "text/plain": [
       "id                 43924.000000\n",
       "rank                   3.162338\n",
       "total_points         990.853896\n",
       "previous_points      985.704545\n",
       "rank_change            0.480519\n",
       "dtype: float64"
      ]
     },
     "execution_count": 30,
     "metadata": {},
     "output_type": "execute_result"
    }
   ],
   "source": [
    "df_brazil_average_rank = df_fifa_data[df_fifa_data[\"country_full\"] == \"Brazil\"].mean()\n",
    "df_brazil_average_rank"
   ]
  },
  {
   "cell_type": "code",
   "execution_count": 39,
   "metadata": {},
   "outputs": [
    {
     "data": {
      "text/plain": [
       "id                 43965.000000\n",
       "rank                  24.454545\n",
       "total_points         700.321429\n",
       "previous_points      698.279221\n",
       "rank_change            2.272727\n",
       "dtype: float64"
      ]
     },
     "execution_count": 39,
     "metadata": {},
     "output_type": "execute_result"
    }
   ],
   "source": [
    "df_russia_average_rank = df_fifa_data[df_fifa_data[\"country_full\"] == \"Russia\"].mean()\n",
    "df_russia_average_rank"
   ]
  },
  {
   "cell_type": "code",
   "execution_count": null,
   "metadata": {},
   "outputs": [],
   "source": []
  }
 ],
 "metadata": {
  "kernelspec": {
   "display_name": "Python 3",
   "language": "python",
   "name": "python3"
  },
  "language_info": {
   "codemirror_mode": {
    "name": "ipython",
    "version": 3
   },
   "file_extension": ".py",
   "mimetype": "text/x-python",
   "name": "python",
   "nbconvert_exporter": "python",
   "pygments_lexer": "ipython3",
   "version": "3.8.3"
  }
 },
 "nbformat": 4,
 "nbformat_minor": 4
}
